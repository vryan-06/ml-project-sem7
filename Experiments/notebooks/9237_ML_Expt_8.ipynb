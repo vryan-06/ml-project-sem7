{
  "nbformat": 4,
  "nbformat_minor": 0,
  "metadata": {
    "colab": {
      "provenance": []
    },
    "kernelspec": {
      "name": "python3",
      "display_name": "Python 3"
    },
    "language_info": {
      "name": "python"
    }
  },
  "cells": [
    {
      "cell_type": "code",
      "source": [
        "from sklearn.datasets import load_iris\n",
        "from sklearn.model_selection import train_test_split\n",
        "from sklearn.ensemble import RandomForestClassifier\n",
        "from sklearn.decomposition import PCA\n",
        "from sklearn.metrics import accuracy_score"
      ],
      "metadata": {
        "id": "3UlYqvd4T0aU"
      },
      "execution_count": 8,
      "outputs": []
    },
    {
      "cell_type": "code",
      "source": [
        "# Loading the dataset\n",
        "data = load_iris()\n",
        "X, y = data.data, data.target"
      ],
      "metadata": {
        "id": "UfKLyiuqT4XB"
      },
      "execution_count": 2,
      "outputs": []
    },
    {
      "cell_type": "code",
      "source": [
        "X_train, X_test, y_train, y_test = train_test_split(X, y, test_size=0.2, random_state=42)"
      ],
      "metadata": {
        "id": "RUB3xc-uT4sO"
      },
      "execution_count": 3,
      "outputs": []
    },
    {
      "cell_type": "code",
      "source": [
        "# WITHOUT PCA\n",
        "model_no_pca = RandomForestClassifier(random_state=42)\n",
        "model_no_pca.fit(X_train, y_train)\n",
        "y_pred_no_pca = model_no_pca.predict(X_test)\n",
        "accuracy_no_pca = accuracy_score(y_test, y_pred_no_pca)"
      ],
      "metadata": {
        "id": "HB3g6YeVT613"
      },
      "execution_count": 4,
      "outputs": []
    },
    {
      "cell_type": "code",
      "source": [
        "#APPLYING PCA\n",
        "pca = PCA(n_components=2) # Example: Reducing to 2 components for visualization\n",
        "X_train_pca = pca.fit_transform(X_train)\n",
        "X_test_pca = pca.transform(X_test)"
      ],
      "metadata": {
        "id": "uyBRqtOTT_HO"
      },
      "execution_count": 5,
      "outputs": []
    },
    {
      "cell_type": "code",
      "source": [
        "#TRAINING WITH PCA\n",
        "model_with_pca = RandomForestClassifier(random_state=42)\n",
        "model_with_pca.fit(X_train_pca, y_train)\n",
        "y_pred_with_pca = model_with_pca.predict(X_test_pca)\n",
        "accuracy_with_pca = accuracy_score(y_test, y_pred_with_pca)"
      ],
      "metadata": {
        "id": "4r3d1RbaUCDv"
      },
      "execution_count": 6,
      "outputs": []
    },
    {
      "cell_type": "code",
      "source": [
        "print(f'Accuracy without PCA: {accuracy_no_pca:.2f}')\n",
        "print(f'Accuracy with PCA: {accuracy_with_pca:.2f}')"
      ],
      "metadata": {
        "colab": {
          "base_uri": "https://localhost:8080/",
          "height": 0
        },
        "id": "nExthn4hUEbf",
        "outputId": "b48fff9f-73de-4b57-8f5d-cf1619eb1f84"
      },
      "execution_count": 7,
      "outputs": [
        {
          "output_type": "stream",
          "name": "stdout",
          "text": [
            "Accuracy without PCA: 1.00\n",
            "Accuracy with PCA: 0.97\n"
          ]
        }
      ]
    },
    {
      "cell_type": "markdown",
      "source": [
        "Using pca we took best 2 cols and we able to represent the data with an accuracy of 97%"
      ],
      "metadata": {
        "id": "OL-Wi0-9ZuMJ"
      }
    },
    {
      "cell_type": "code",
      "source": [],
      "metadata": {
        "id": "MY4vypGFXiRO"
      },
      "execution_count": null,
      "outputs": []
    }
  ]
}