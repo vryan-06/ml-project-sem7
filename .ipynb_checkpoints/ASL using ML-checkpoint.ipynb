{
 "cells": [
  {
   "cell_type": "markdown",
   "metadata": {
    "id": "djV2ZdWPH1vT"
   },
   "source": [
    "### **Importing Libraries**"
   ]
  },
  {
   "cell_type": "code",
   "execution_count": 1,
   "metadata": {
    "execution": {
     "iopub.execute_input": "2022-01-31T16:20:03.918331Z",
     "iopub.status.busy": "2022-01-31T16:20:03.917839Z",
     "iopub.status.idle": "2022-01-31T16:20:03.930845Z",
     "shell.execute_reply": "2022-01-31T16:20:03.929705Z",
     "shell.execute_reply.started": "2022-01-31T16:20:03.918296Z"
    },
    "id": "duGiGaq-Wyqg"
   },
   "outputs": [],
   "source": [
    "import numpy as np\n",
    "import os\n",
    "import pandas as pd\n",
    "from matplotlib import pyplot as plt\n",
    "import cv2\n",
    "import seaborn as sns\n",
    "from sklearn.neighbors import KNeighborsClassifier\n",
    "from sklearn.linear_model import LogisticRegression\n",
    "from sklearn.tree import DecisionTreeClassifier\n",
    "\n",
    "from sklearn.metrics import confusion_matrix\n",
    "from sklearn.metrics import accuracy_score\n",
    "from sklearn.metrics import f1_score\n",
    "\n",
    "\n",
    "%matplotlib inline"
   ]
  },
  {
   "cell_type": "markdown",
   "metadata": {
    "id": "jJ_IxOYvH_lt"
   },
   "source": [
    "### **Importing image dataset**"
   ]
  },
  {
   "cell_type": "code",
   "execution_count": 2,
   "metadata": {
    "execution": {
     "iopub.execute_input": "2022-01-31T16:23:17.718502Z",
     "iopub.status.busy": "2022-01-31T16:23:17.718221Z",
     "iopub.status.idle": "2022-01-31T16:23:17.731869Z",
     "shell.execute_reply": "2022-01-31T16:23:17.729906Z",
     "shell.execute_reply.started": "2022-01-31T16:23:17.718473Z"
    },
    "id": "WFqJGbB6W4Ra"
   },
   "outputs": [],
   "source": [
    "def create_dataset(img_folder): \n",
    "##gets the data from the files and create array of that image\n",
    "    img_data_array=[]  ## all images list\n",
    "    class_name=[]  ## all the target class of the images\n",
    "    for dir in os.listdir(img_folder):  ## for selecting class directory\n",
    "        for img in os.listdir(os.path.join(img_folder,dir)): \n",
    "              ## selecting image from the directory\n",
    "            try:\n",
    "                imagepath=os.path.join(img_folder,dir,img)\n",
    "                if(imagepath.split(\".\")[-1]==\"gif\"): ## removing the gif from the data\n",
    "                    continue\n",
    "                image=cv2.imread(imagepath,cv2.COLOR_BGR2RGB) ## reading the image \n",
    "                        ##reszing the image\n",
    "                image=cv2.resize(image,(200,200),interpolation=cv2.INTER_AREA).flatten()\n",
    "                        ## converting it to array of float type\n",
    "                image=np.array(image.astype(\"float32\"))\n",
    "                        ## appending the image and it's target class\n",
    "                img_data_array.append(image)\n",
    "                class_name.append(dir)\n",
    "            except Exception as e:\n",
    "                continue   \n",
    "    return np.array(img_data_array),class_name      "
   ]
  },
  {
   "cell_type": "markdown",
   "metadata": {
    "id": "tCbBCZesI3m-"
   },
   "source": [
    "**Importing the dataset from the directory based on collab**"
   ]
  },
  {
   "cell_type": "code",
   "execution_count": 13,
   "metadata": {
    "execution": {
     "iopub.execute_input": "2022-01-31T16:27:59.753532Z",
     "iopub.status.busy": "2022-01-31T16:27:59.753113Z",
     "iopub.status.idle": "2022-01-31T16:28:18.126143Z",
     "shell.execute_reply": "2022-01-31T16:28:18.125118Z",
     "shell.execute_reply.started": "2022-01-31T16:27:59.753501Z"
    },
    "id": "gZ4VBn9fXGq2"
   },
   "outputs": [
    {
     "ename": "KeyboardInterrupt",
     "evalue": "",
     "output_type": "error",
     "traceback": [
      "\u001b[1;31m--------------------------------------------------------------------------\u001b[0m",
      "\u001b[1;31mKeyboardInterrupt\u001b[0m                        Traceback (most recent call last)",
      "Input \u001b[1;32mIn [13]\u001b[0m, in \u001b[0;36m<cell line: 2>\u001b[1;34m()\u001b[0m\n\u001b[0;32m      1\u001b[0m \u001b[38;5;66;03m## the directory path can vary it is based on the path i have donwloaded dataset to\u001b[39;00m\n\u001b[1;32m----> 2\u001b[0m img_data,class_name\u001b[38;5;241m=\u001b[39m\u001b[43mcreate_dataset\u001b[49m\u001b[43m(\u001b[49m\u001b[38;5;124;43m\"\u001b[39;49m\u001b[38;5;124;43mdataset/train/\u001b[39;49m\u001b[38;5;124;43m\"\u001b[39;49m\u001b[43m)\u001b[49m\n",
      "Input \u001b[1;32mIn [2]\u001b[0m, in \u001b[0;36mcreate_dataset\u001b[1;34m(img_folder)\u001b[0m\n\u001b[0;32m     20\u001b[0m         \u001b[38;5;28;01mexcept\u001b[39;00m \u001b[38;5;167;01mException\u001b[39;00m \u001b[38;5;28;01mas\u001b[39;00m e:\n\u001b[0;32m     21\u001b[0m             \u001b[38;5;28;01mcontinue\u001b[39;00m   \n\u001b[1;32m---> 22\u001b[0m \u001b[38;5;28;01mreturn\u001b[39;00m \u001b[43mnp\u001b[49m\u001b[38;5;241;43m.\u001b[39;49m\u001b[43marray\u001b[49m\u001b[43m(\u001b[49m\u001b[43mimg_data_array\u001b[49m\u001b[43m)\u001b[49m,class_name\n",
      "\u001b[1;31mKeyboardInterrupt\u001b[0m: "
     ]
    }
   ],
   "source": [
    "## the directory path can vary it is based on the path i have donwloaded dataset to\n",
    "img_data,class_name=create_dataset(\"dataset/train/\")"
   ]
  },
  {
   "cell_type": "markdown",
   "metadata": {
    "id": "qilRpfpRJV49"
   },
   "source": [
    "### **Dictionary to Convert Target Class to Integer**"
   ]
  },
  {
   "cell_type": "code",
   "execution_count": null,
   "metadata": {
    "execution": {
     "iopub.execute_input": "2022-01-31T16:28:29.352594Z",
     "iopub.status.busy": "2022-01-31T16:28:29.352286Z",
     "iopub.status.idle": "2022-01-31T16:28:29.360916Z",
     "shell.execute_reply": "2022-01-31T16:28:29.359734Z",
     "shell.execute_reply.started": "2022-01-31T16:28:29.352560Z"
    },
    "id": "ifH_ro8gX9ZP"
   },
   "outputs": [],
   "source": [
    "## creating a dictionary to label each target class in the form of integer\n",
    "targetClasses={key:value for value,key in enumerate(np.unique(class_name))}\n",
    "getClasses={value:key for value,key in enumerate(np.unique(class_name))}"
   ]
  },
  {
   "cell_type": "markdown",
   "metadata": {
    "id": "CqBqWRJXJjb3"
   },
   "source": [
    "**Encoding the Target Class**"
   ]
  },
  {
   "cell_type": "code",
   "execution_count": null,
   "metadata": {
    "execution": {
     "iopub.execute_input": "2022-01-31T16:28:33.851572Z",
     "iopub.status.busy": "2022-01-31T16:28:33.851275Z",
     "iopub.status.idle": "2022-01-31T16:28:33.856334Z",
     "shell.execute_reply": "2022-01-31T16:28:33.855547Z",
     "shell.execute_reply.started": "2022-01-31T16:28:33.851539Z"
    },
    "id": "vSpRo4YaX_US"
   },
   "outputs": [],
   "source": [
    "## changing the target classs to integer instead of string\n",
    "targetClss=[targetClasses[class_name[i]] for i in range(len(class_name))]"
   ]
  },
  {
   "cell_type": "markdown",
   "metadata": {
    "id": "Jk1CANR_JpcN"
   },
   "source": [
    "### **Size of the dataset**"
   ]
  },
  {
   "cell_type": "code",
   "execution_count": 10,
   "metadata": {
    "execution": {
     "iopub.execute_input": "2022-01-31T16:28:37.034265Z",
     "iopub.status.busy": "2022-01-31T16:28:37.033659Z",
     "iopub.status.idle": "2022-01-31T16:28:37.040455Z",
     "shell.execute_reply": "2022-01-31T16:28:37.039598Z",
     "shell.execute_reply.started": "2022-01-31T16:28:37.034230Z"
    },
    "id": "do1cK2PRYlpq",
    "outputId": "0a77a65f-a91c-4c82-a5ce-3d21c17704f8"
   },
   "outputs": [
    {
     "name": "stdout",
     "output_type": "stream",
     "text": [
      "The size of the dataset: 0\n",
      "The Shape of the Dataset: (0,)\n"
     ]
    }
   ],
   "source": [
    "print(f\"The size of the dataset: {len(img_data)}\")\n",
    "print(f\"The Shape of the Dataset: {img_data.shape}\")"
   ]
  },
  {
   "cell_type": "markdown",
   "metadata": {
    "id": "fXByyl6PM7Pk"
   },
   "source": [
    "### **Shuffling and Spliting the Data**"
   ]
  },
  {
   "cell_type": "code",
   "execution_count": null,
   "metadata": {
    "execution": {
     "iopub.execute_input": "2022-01-31T16:28:40.612003Z",
     "iopub.status.busy": "2022-01-31T16:28:40.611545Z",
     "iopub.status.idle": "2022-01-31T16:28:40.622056Z",
     "shell.execute_reply": "2022-01-31T16:28:40.621207Z",
     "shell.execute_reply.started": "2022-01-31T16:28:40.611959Z"
    },
    "id": "mkqIU6sMYA64"
   },
   "outputs": [],
   "source": [
    "## shuffling to create randomness in the data\n",
    "temp=list(zip(img_data,targetClss))\n",
    "np.random.shuffle(temp)\n",
    "img_data,targetClss=zip(*temp)\n",
    "## spliting into training and testing\n",
    "x_train=img_data[:2012]\n",
    "x_test=img_data[2012:]\n",
    "y_train=targetClss[:2012]\n",
    "y_test=targetClss[2012:]"
   ]
  },
  {
   "cell_type": "markdown",
   "metadata": {
    "id": "KmOltuVUQcH9"
   },
   "source": [
    "### **Size of train and test data**"
   ]
  },
  {
   "cell_type": "code",
   "execution_count": null,
   "metadata": {
    "execution": {
     "iopub.execute_input": "2022-01-31T16:28:45.401391Z",
     "iopub.status.busy": "2022-01-31T16:28:45.400795Z",
     "iopub.status.idle": "2022-01-31T16:28:45.408049Z",
     "shell.execute_reply": "2022-01-31T16:28:45.407242Z",
     "shell.execute_reply.started": "2022-01-31T16:28:45.401347Z"
    },
    "id": "n9b34eUvYrId",
    "outputId": "6beb26a6-d533-44f1-ae47-35f1c28cf59e"
   },
   "outputs": [],
   "source": [
    "\n",
    "print(f\"Total Number of Train Data: {len(x_train)}\")\n",
    "print(f\"Total Number of Test Data: {len(x_test)}\")\n"
   ]
  },
  {
   "cell_type": "markdown",
   "metadata": {
    "id": "_f9ZtQVPjiNQ"
   },
   "source": [
    "### **Visualization of data**"
   ]
  },
  {
   "cell_type": "markdown",
   "metadata": {
    "id": "H_zQ-Qucjm25"
   },
   "source": [
    "**Total Test Cases in each Class**"
   ]
  },
  {
   "cell_type": "code",
   "execution_count": null,
   "metadata": {
    "execution": {
     "iopub.execute_input": "2022-01-31T16:28:50.748023Z",
     "iopub.status.busy": "2022-01-31T16:28:50.747553Z",
     "iopub.status.idle": "2022-01-31T16:28:51.133761Z",
     "shell.execute_reply": "2022-01-31T16:28:51.132911Z",
     "shell.execute_reply.started": "2022-01-31T16:28:50.747992Z"
    },
    "id": "99Wwgg0Ojsju",
    "outputId": "68aa0bb2-c8d3-4556-f356-da5a7c0ea1b1"
   },
   "outputs": [],
   "source": [
    "targetClssCounts={}\n",
    "for tar in targetClasses:\n",
    "    targetClssCounts[tar]=class_name.count(tar)\n",
    "  \n",
    "# print(targetClssCounts)\n",
    "# print(list(range(len(targetClssCounts))))\n",
    "# print(list(targetClssCounts.values()))\n",
    "# print(list(targetClssCounts.keys()))\n",
    "plt.figure(figsize=(10,5))\n",
    "plt.bar(list(range(len(targetClssCounts))),list(targetClssCounts.values()),\n",
    "        tick_label=list(targetClssCounts.keys()),width=0.8)\n",
    "plt.xlabel(\"TargetClasses\")\n",
    "plt.ylabel(\"No. of Data\")\n",
    "plt.title(\"Total Data for each Target Class\")\n",
    "plt.show()"
   ]
  },
  {
   "cell_type": "markdown",
   "metadata": {
    "id": "xpcaHm-Cqb9f"
   },
   "source": [
    "**Data Distribution in Test Test**"
   ]
  },
  {
   "cell_type": "code",
   "execution_count": null,
   "metadata": {
    "execution": {
     "iopub.execute_input": "2022-01-31T16:28:55.602157Z",
     "iopub.status.busy": "2022-01-31T16:28:55.601559Z",
     "iopub.status.idle": "2022-01-31T16:28:55.956752Z",
     "shell.execute_reply": "2022-01-31T16:28:55.955941Z",
     "shell.execute_reply.started": "2022-01-31T16:28:55.602092Z"
    },
    "id": "G3L-bUDvqkRK",
    "outputId": "666f5869-7189-4164-9a75-6b4f1701742a"
   },
   "outputs": [],
   "source": [
    "targettestClssCounts={}\n",
    "for tar in targetClasses:\n",
    "    targettestClssCounts[tar]=y_test.count(targetClasses[tar])\n",
    "\n",
    "\n",
    "plt.figure(figsize=(10,5))\n",
    "plt.bar(list(range(len(targettestClssCounts))),list(targettestClssCounts.values()),\n",
    "        tick_label=list(targettestClssCounts.keys()),width=0.8)\n",
    "plt.xlabel(\"TargetClasses\")\n",
    "plt.ylabel(\"No. of Data\")\n",
    "plt.title(\"Data Distribution in Test Split\")\n",
    "plt.show()"
   ]
  },
  {
   "cell_type": "markdown",
   "metadata": {
    "id": "lUqE6thfw15T"
   },
   "source": [
    "**Data Distribution in Train Split**"
   ]
  },
  {
   "cell_type": "code",
   "execution_count": null,
   "metadata": {
    "execution": {
     "iopub.execute_input": "2022-01-31T16:28:59.353463Z",
     "iopub.status.busy": "2022-01-31T16:28:59.353181Z",
     "iopub.status.idle": "2022-01-31T16:28:59.865987Z",
     "shell.execute_reply": "2022-01-31T16:28:59.864909Z",
     "shell.execute_reply.started": "2022-01-31T16:28:59.353432Z"
    },
    "id": "cGILAvXrw_Dv",
    "outputId": "c80d61e4-8ab9-4e92-d894-7af547c55202"
   },
   "outputs": [],
   "source": [
    "targettrainClssCounts={}\n",
    "for tar in targetClasses:\n",
    "    targettrainClssCounts[tar]=y_train.count(targetClasses[tar])\n",
    "\n",
    "plt.figure(figsize=(10,5))\n",
    "plt.bar(list(range(len(targettrainClssCounts))),list(targettrainClssCounts.values()),\n",
    "        tick_label=list(targettrainClssCounts.keys()),width=0.8)\n",
    "plt.xlabel(\"TargetClasses\")\n",
    "plt.ylabel(\"No. of Data\")\n",
    "plt.title(\"Data Distribution in Test Split\")\n",
    "plt.show()    "
   ]
  },
  {
   "cell_type": "markdown",
   "metadata": {
    "id": "B7wsFx8EQ9J6"
   },
   "source": [
    "## **Trainig on Different Models and Evaluation**"
   ]
  },
  {
   "cell_type": "markdown",
   "metadata": {
    "id": "J98_wheoRBaz"
   },
   "source": [
    "### **Model 1: K Neighbor Classifier**"
   ]
  },
  {
   "cell_type": "markdown",
   "metadata": {
    "id": "7MnhVQiLRIOs"
   },
   "source": [
    "**Initializing The model with 6 neighbors**"
   ]
  },
  {
   "cell_type": "code",
   "execution_count": null,
   "metadata": {
    "execution": {
     "iopub.execute_input": "2022-01-31T16:29:05.273443Z",
     "iopub.status.busy": "2022-01-31T16:29:05.273153Z",
     "iopub.status.idle": "2022-01-31T16:29:30.193767Z",
     "shell.execute_reply": "2022-01-31T16:29:30.192887Z",
     "shell.execute_reply.started": "2022-01-31T16:29:05.273412Z"
    },
    "id": "f8D6vK5yYDGp",
    "outputId": "a73e1241-d7c7-4ee9-fa8c-37c6d3a4e6d3"
   },
   "outputs": [],
   "source": [
    "\n",
    "knnClss=KNeighborsClassifier(n_neighbors=6)\n",
    "knnClss.fit(x_train,y_train)"
   ]
  },
  {
   "cell_type": "markdown",
   "metadata": {
    "id": "r0-PsXPCRUcM"
   },
   "source": [
    "**Predicting for the test data:**"
   ]
  },
  {
   "cell_type": "code",
   "execution_count": null,
   "metadata": {
    "execution": {
     "iopub.execute_input": "2022-01-31T16:29:30.195724Z",
     "iopub.status.busy": "2022-01-31T16:29:30.195469Z",
     "iopub.status.idle": "2022-01-31T16:34:26.477728Z",
     "shell.execute_reply": "2022-01-31T16:34:26.476787Z",
     "shell.execute_reply.started": "2022-01-31T16:29:30.195693Z"
    },
    "id": "ZG1NMFCGYGJE"
   },
   "outputs": [],
   "source": [
    "predicted=[]\n",
    "for line in x_test:\n",
    "  \n",
    "  predicted.append(knnClss.predict([line]))"
   ]
  },
  {
   "cell_type": "markdown",
   "metadata": {
    "id": "o0H_kMFNRZ84"
   },
   "source": [
    "**Accuracy of the model and F1 accuracy for each Class**"
   ]
  },
  {
   "cell_type": "code",
   "execution_count": null,
   "metadata": {
    "execution": {
     "iopub.execute_input": "2022-01-31T16:34:26.479670Z",
     "iopub.status.busy": "2022-01-31T16:34:26.479372Z",
     "iopub.status.idle": "2022-01-31T16:34:26.495407Z",
     "shell.execute_reply": "2022-01-31T16:34:26.494670Z",
     "shell.execute_reply.started": "2022-01-31T16:34:26.479573Z"
    },
    "id": "4OTg5EJ2YId1",
    "outputId": "a4014889-ed4b-469a-9f48-57e0f267beac"
   },
   "outputs": [],
   "source": [
    "print(f\"Accuracy of the model: {accuracy_score(predicted,y_test)}\")\n",
    "print(f\"F1 Score of the model:\\n{f1_score(y_test,predicted,average=None)}\")\n"
   ]
  },
  {
   "cell_type": "markdown",
   "metadata": {
    "id": "O9T8kwdwzZ38"
   },
   "source": [
    "**Confusion Matrix**"
   ]
  },
  {
   "cell_type": "code",
   "execution_count": null,
   "metadata": {
    "execution": {
     "iopub.execute_input": "2022-01-31T16:34:26.497971Z",
     "iopub.status.busy": "2022-01-31T16:34:26.497630Z",
     "iopub.status.idle": "2022-01-31T16:34:31.864529Z",
     "shell.execute_reply": "2022-01-31T16:34:31.863786Z",
     "shell.execute_reply.started": "2022-01-31T16:34:26.497940Z"
    },
    "id": "1B_7QcChzZXq",
    "outputId": "cde57a8c-cf05-4e97-ce42-01a504efcc66"
   },
   "outputs": [],
   "source": [
    "cm = confusion_matrix(y_test,predicted)\n",
    "plt.figure(figsize=(16,16))\n",
    "sns.heatmap(cm,annot=True, fmt='.0f', linewidths=.5, square=True,cmap='Blues_r')\n",
    "plt.ylabel('Actual label')\n",
    "plt.xlabel('Predicted label')\n",
    "all_sample_title = 'Accuracy Score: {0}'.format(accuracy_score(y_test,predicted))\n",
    "plt.title(all_sample_title,size=15)"
   ]
  },
  {
   "cell_type": "markdown",
   "metadata": {
    "id": "MSPjQX2_SB1k"
   },
   "source": [
    "**Predicting for Random Data**"
   ]
  },
  {
   "cell_type": "code",
   "execution_count": null,
   "metadata": {
    "execution": {
     "iopub.execute_input": "2022-01-31T16:34:31.866479Z",
     "iopub.status.busy": "2022-01-31T16:34:31.865911Z",
     "iopub.status.idle": "2022-01-31T16:34:37.727293Z",
     "shell.execute_reply": "2022-01-31T16:34:37.726200Z",
     "shell.execute_reply.started": "2022-01-31T16:34:31.866414Z"
    },
    "id": "Wkrv0HuuSMeF",
    "outputId": "895297e2-9303-4c21-c0f2-a316b3f68af6"
   },
   "outputs": [],
   "source": [
    "temp=list(zip(img_data,targetClss))\n",
    "np.random.shuffle(temp)\n",
    "img_data,targetClss=zip(*temp)\n",
    "\n",
    "for i in range(10):\n",
    "  result=knnClss.predict([img_data[i]])\n",
    "  print(f\"Actucal Class : {getClasses[targetClss[i]]} Predicted Class: {getClasses[result[0]]}\")\n",
    "    "
   ]
  },
  {
   "cell_type": "markdown",
   "metadata": {
    "id": "AjOvm_I9SM73"
   },
   "source": [
    "### **Model 2: Multinomial Logistic Regression Model**"
   ]
  },
  {
   "cell_type": "markdown",
   "metadata": {
    "id": "SFXV935WTytl"
   },
   "source": [
    "**Initialzing the model**"
   ]
  },
  {
   "cell_type": "code",
   "execution_count": null,
   "metadata": {
    "execution": {
     "iopub.execute_input": "2022-01-31T16:34:37.728698Z",
     "iopub.status.busy": "2022-01-31T16:34:37.728478Z",
     "iopub.status.idle": "2022-01-31T16:34:37.734000Z",
     "shell.execute_reply": "2022-01-31T16:34:37.732995Z",
     "shell.execute_reply.started": "2022-01-31T16:34:37.728671Z"
    },
    "id": "Q4LJRnMOa0eM"
   },
   "outputs": [],
   "source": [
    "LogReg = LogisticRegression(multi_class=\"multinomial\",solver='lbfgs', max_iter=2000)"
   ]
  },
  {
   "cell_type": "markdown",
   "metadata": {
    "id": "0uZFsE_RULLG"
   },
   "source": [
    "**Training the Model**"
   ]
  },
  {
   "cell_type": "code",
   "execution_count": null,
   "metadata": {
    "execution": {
     "iopub.execute_input": "2022-01-31T16:34:37.735342Z",
     "iopub.status.busy": "2022-01-31T16:34:37.735086Z",
     "iopub.status.idle": "2022-01-31T16:43:39.298091Z",
     "shell.execute_reply": "2022-01-31T16:43:39.297232Z",
     "shell.execute_reply.started": "2022-01-31T16:34:37.735313Z"
    },
    "id": "0nk8m026a6lz",
    "outputId": "1f025bd0-7e99-4262-b0fe-80bb0162c54e"
   },
   "outputs": [],
   "source": [
    "LogReg.fit(x_train,y_train)"
   ]
  },
  {
   "cell_type": "markdown",
   "metadata": {
    "id": "kSFm1FU2UONC"
   },
   "source": [
    "**Predicting for the test cases**"
   ]
  },
  {
   "cell_type": "code",
   "execution_count": null,
   "metadata": {
    "execution": {
     "iopub.execute_input": "2022-01-31T16:43:39.299788Z",
     "iopub.status.busy": "2022-01-31T16:43:39.299538Z",
     "iopub.status.idle": "2022-01-31T16:43:39.837480Z",
     "shell.execute_reply": "2022-01-31T16:43:39.836227Z",
     "shell.execute_reply.started": "2022-01-31T16:43:39.299758Z"
    },
    "id": "RIH6MPdPbD4X"
   },
   "outputs": [],
   "source": [
    "y_pred = LogReg.predict(x_test)"
   ]
  },
  {
   "cell_type": "markdown",
   "metadata": {
    "id": "0IQOOQCGUUe_"
   },
   "source": [
    "**Accuracy of the model and F1 accuracy for each Class**"
   ]
  },
  {
   "cell_type": "code",
   "execution_count": null,
   "metadata": {
    "execution": {
     "iopub.execute_input": "2022-01-31T16:43:39.840150Z",
     "iopub.status.busy": "2022-01-31T16:43:39.839449Z",
     "iopub.status.idle": "2022-01-31T16:43:39.853179Z",
     "shell.execute_reply": "2022-01-31T16:43:39.852183Z",
     "shell.execute_reply.started": "2022-01-31T16:43:39.840082Z"
    },
    "id": "pr8rbvi_bNKj",
    "outputId": "6e634048-96dd-4d06-e779-bb52a26f6a56"
   },
   "outputs": [],
   "source": [
    "print(f\"Accuracy of the model : {accuracy_score(y_test,y_pred)}\")\n",
    "print(f\"F1 Score of the model:\\n{f1_score(y_test,y_pred,average=None)}\")"
   ]
  },
  {
   "cell_type": "markdown",
   "metadata": {
    "id": "3qDEO4Io0GCz"
   },
   "source": [
    "**Confusion Matrix**"
   ]
  },
  {
   "cell_type": "code",
   "execution_count": null,
   "metadata": {
    "execution": {
     "iopub.execute_input": "2022-01-31T16:46:44.204028Z",
     "iopub.status.busy": "2022-01-31T16:46:44.203715Z",
     "iopub.status.idle": "2022-01-31T16:46:49.491153Z",
     "shell.execute_reply": "2022-01-31T16:46:49.490067Z",
     "shell.execute_reply.started": "2022-01-31T16:46:44.203988Z"
    },
    "id": "nrXRFKob0K3R"
   },
   "outputs": [],
   "source": [
    "cm = confusion_matrix(y_test,y_pred)\n",
    "plt.figure(figsize=(16,16))\n",
    "sns.heatmap(cm,annot=True, fmt='.0f', linewidths=.5, square=True,cmap='Blues_r')\n",
    "plt.ylabel('Actual label')\n",
    "plt.xlabel('Predicted label')\n",
    "all_sample_title = 'Accuracy Score: {0}'.format(accuracy_score(y_test,y_pred))\n",
    "plt.title(all_sample_title,size=15)"
   ]
  },
  {
   "cell_type": "markdown",
   "metadata": {
    "id": "3qcc-Xt01MTr"
   },
   "source": [
    "**Predicting for Random Data**"
   ]
  },
  {
   "cell_type": "code",
   "execution_count": null,
   "metadata": {
    "execution": {
     "iopub.execute_input": "2022-01-31T16:49:53.274463Z",
     "iopub.status.busy": "2022-01-31T16:49:53.274096Z",
     "iopub.status.idle": "2022-01-31T16:49:53.354988Z",
     "shell.execute_reply": "2022-01-31T16:49:53.353658Z",
     "shell.execute_reply.started": "2022-01-31T16:49:53.274427Z"
    },
    "id": "_Xl3zFXs1PRY"
   },
   "outputs": [],
   "source": [
    "temp=list(zip(img_data,targetClss))\n",
    "np.random.shuffle(temp)\n",
    "img_data,targetClss=zip(*temp)\n",
    "\n",
    "for i in range(10):\n",
    "  result=LogReg.predict([img_data[i]])\n",
    "  print(f\"Actucal Class : {getClasses[targetClss[i]]} Predicted Class: {getClasses[result[0]]}\")\n",
    "    "
   ]
  },
  {
   "cell_type": "markdown",
   "metadata": {
    "id": "0lSBS3k1UZCK"
   },
   "source": [
    "### **Model 3: Decision Tree With Max Depth of 12**"
   ]
  },
  {
   "cell_type": "markdown",
   "metadata": {
    "id": "UkS2F5jMUiau"
   },
   "source": [
    "**Initializing the Model**"
   ]
  },
  {
   "cell_type": "code",
   "execution_count": null,
   "metadata": {
    "execution": {
     "iopub.execute_input": "2022-01-31T16:43:52.144514Z",
     "iopub.status.busy": "2022-01-31T16:43:52.144269Z",
     "iopub.status.idle": "2022-01-31T16:43:52.148967Z",
     "shell.execute_reply": "2022-01-31T16:43:52.148209Z",
     "shell.execute_reply.started": "2022-01-31T16:43:52.144485Z"
    },
    "id": "jYJAzTcCdiRN"
   },
   "outputs": [],
   "source": [
    "DecTree=DecisionTreeClassifier(criterion='entropy', max_depth=12, min_samples_leaf=8, random_state=100)"
   ]
  },
  {
   "cell_type": "markdown",
   "metadata": {
    "id": "RiLXBcCZUuLR"
   },
   "source": [
    "**Trainig The Model**"
   ]
  },
  {
   "cell_type": "code",
   "execution_count": null,
   "metadata": {
    "execution": {
     "iopub.execute_input": "2022-01-31T16:43:52.150444Z",
     "iopub.status.busy": "2022-01-31T16:43:52.150197Z",
     "iopub.status.idle": "2022-01-31T16:46:25.369970Z",
     "shell.execute_reply": "2022-01-31T16:46:25.368977Z",
     "shell.execute_reply.started": "2022-01-31T16:43:52.150409Z"
    },
    "id": "jBK93xBVdtrC",
    "outputId": "afea738f-72b7-4d27-9a02-45277c35cb89"
   },
   "outputs": [],
   "source": [
    "DecTree.fit(x_train,y_train)"
   ]
  },
  {
   "cell_type": "markdown",
   "metadata": {
    "id": "gey3G8WsUz5U"
   },
   "source": [
    "**Predicting for Test Cases**"
   ]
  },
  {
   "cell_type": "code",
   "execution_count": null,
   "metadata": {
    "execution": {
     "iopub.execute_input": "2022-01-31T16:46:25.371596Z",
     "iopub.status.busy": "2022-01-31T16:46:25.371269Z",
     "iopub.status.idle": "2022-01-31T16:46:25.505333Z",
     "shell.execute_reply": "2022-01-31T16:46:25.504222Z",
     "shell.execute_reply.started": "2022-01-31T16:46:25.371556Z"
    },
    "id": "Yk83hzL4dtAm"
   },
   "outputs": [],
   "source": [
    "ypred=DecTree.predict(x_test)"
   ]
  },
  {
   "cell_type": "markdown",
   "metadata": {
    "id": "ULkSkj3UU2vE"
   },
   "source": [
    "**Accuracy of the model and F1 accuracy for each Class**"
   ]
  },
  {
   "cell_type": "code",
   "execution_count": null,
   "metadata": {
    "execution": {
     "iopub.execute_input": "2022-01-31T16:46:25.507351Z",
     "iopub.status.busy": "2022-01-31T16:46:25.506966Z",
     "iopub.status.idle": "2022-01-31T16:46:25.517946Z",
     "shell.execute_reply": "2022-01-31T16:46:25.516990Z",
     "shell.execute_reply.started": "2022-01-31T16:46:25.507305Z"
    },
    "id": "RRVbI_ard9GS",
    "outputId": "8e4a4604-1586-4858-c92f-3198da07e07b"
   },
   "outputs": [],
   "source": [
    "print(f\"Accuracy of the model : {accuracy_score(y_test,ypred)}\")\n",
    "print(f\"F1 Score of the model:\\n{f1_score(y_test,ypred,average=None)}\")"
   ]
  },
  {
   "cell_type": "markdown",
   "metadata": {
    "id": "RoFn3OkF0qZY"
   },
   "source": [
    "**Confusion Matrix**"
   ]
  },
  {
   "cell_type": "code",
   "execution_count": null,
   "metadata": {
    "execution": {
     "iopub.execute_input": "2022-01-31T16:47:06.367537Z",
     "iopub.status.busy": "2022-01-31T16:47:06.367196Z",
     "iopub.status.idle": "2022-01-31T16:47:11.656858Z",
     "shell.execute_reply": "2022-01-31T16:47:11.656034Z",
     "shell.execute_reply.started": "2022-01-31T16:47:06.367478Z"
    },
    "id": "UxORudVj0u4P"
   },
   "outputs": [],
   "source": [
    "cm = confusion_matrix(y_test,ypred)\n",
    "plt.figure(figsize=(16,16))\n",
    "sns.heatmap(cm,annot=True, fmt='.0f', linewidths=.5, square=True,cmap='Blues_r')\n",
    "plt.ylabel('Actual label')\n",
    "plt.xlabel('Predicted label')\n",
    "all_sample_title = 'Accuracy Score: {0}'.format(accuracy_score(y_test,ypred))\n",
    "plt.title(all_sample_title,size=15)"
   ]
  },
  {
   "cell_type": "markdown",
   "metadata": {
    "id": "3YmQoZ5k1cGU"
   },
   "source": [
    "**Predicting for Random Data**"
   ]
  },
  {
   "cell_type": "code",
   "execution_count": null,
   "metadata": {
    "execution": {
     "iopub.execute_input": "2022-01-31T16:50:20.869390Z",
     "iopub.status.busy": "2022-01-31T16:50:20.868952Z",
     "iopub.status.idle": "2022-01-31T16:50:20.884111Z",
     "shell.execute_reply": "2022-01-31T16:50:20.883334Z",
     "shell.execute_reply.started": "2022-01-31T16:50:20.869339Z"
    },
    "id": "ZAKEBx461bo1"
   },
   "outputs": [],
   "source": [
    "temp=list(zip(img_data,targetClss))\n",
    "np.random.shuffle(temp)\n",
    "img_data,targetClss=zip(*temp)\n",
    "\n",
    "for i in range(10):\n",
    "  result=DecTree.predict([img_data[i]])\n",
    "  print(f\"Actucal Class : {getClasses[targetClss[i]]} Predicted Class: {getClasses[result[0]]}\")\n",
    "    "
   ]
  },
  {
   "cell_type": "markdown",
   "metadata": {
    "id": "5Z1RQuUe1obl"
   },
   "source": [
    "# **Summary of the Models**"
   ]
  },
  {
   "cell_type": "code",
   "execution_count": null,
   "metadata": {
    "execution": {
     "iopub.execute_input": "2022-01-31T16:50:27.707932Z",
     "iopub.status.busy": "2022-01-31T16:50:27.706962Z",
     "iopub.status.idle": "2022-01-31T16:50:27.719325Z",
     "shell.execute_reply": "2022-01-31T16:50:27.718293Z",
     "shell.execute_reply.started": "2022-01-31T16:50:27.707861Z"
    },
    "id": "Np_GZMIo1uNT"
   },
   "outputs": [],
   "source": [
    "print(f\"The Accuracy of KNN is {accuracy_score(y_test,predicted)}\")\n",
    "print(f\"The Accuracy of Logistic Regression is {accuracy_score(y_test,y_pred)}\")\n",
    "print(f\"The Accuracy of Decision Tree is {accuracy_score(y_test,ypred)}\")\n"
   ]
  }
 ],
 "metadata": {
  "kernelspec": {
   "display_name": "Python 3 (ipykernel)",
   "language": "python",
   "name": "python3"
  },
  "language_info": {
   "codemirror_mode": {
    "name": "ipython",
    "version": 3
   },
   "file_extension": ".py",
   "mimetype": "text/x-python",
   "name": "python",
   "nbconvert_exporter": "python",
   "pygments_lexer": "ipython3",
   "version": "3.10.5"
  }
 },
 "nbformat": 4,
 "nbformat_minor": 4
}
